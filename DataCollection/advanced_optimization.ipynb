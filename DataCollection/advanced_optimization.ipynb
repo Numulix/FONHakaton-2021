{
 "cells": [
  {
   "cell_type": "code",
   "execution_count": 44,
   "id": "juvenile-chicago",
   "metadata": {},
   "outputs": [],
   "source": [
    "%matplotlib inline\n",
    "import matplotlib.pyplot as plt\n",
    "import numpy as np\n",
    "import pandas as pd\n",
    "from scipy.optimize import minimize\n",
    "import geopy.distance\n",
    "from math import radians, cos, sin, asin, sqrt\n",
    "import pickle\n",
    "import json"
   ]
  },
  {
   "cell_type": "code",
   "execution_count": 2,
   "id": "thirty-intake",
   "metadata": {},
   "outputs": [],
   "source": [
    "def preprocess_distances(cities, available_res, path='distances.pkl'):\n",
    "    dist = np.zeros((n,k))\n",
    "    for i in range(n):\n",
    "        for j in range(k):\n",
    "            dist[i,j] = geopy.distance.distance(cities.iloc[i][['lat','lng']].values, \n",
    "                                                available_res.iloc[j][['lat','lng']].values).km\n",
    "    with open(path, 'wb') as out:\n",
    "        pickle.dump(dist, out, pickle.HIGHEST_PROTOCOL)\n",
    "    \n",
    "def load_distances(path='distances.pkl'):\n",
    "    with open('distances.pkl', 'rb') as inp:\n",
    "        return pickle.load(inp)\n",
    "        "
   ]
  },
  {
   "cell_type": "code",
   "execution_count": 82,
   "id": "utility-impression",
   "metadata": {},
   "outputs": [
    {
     "name": "stdout",
     "output_type": "stream",
     "text": [
      "[{\"epicenter\": [44.117512, 20.189369], \"magnitude\": 6}, {\"epicenter\": [43.886935, 20.556935], \"magnitude\": 7}, {\"epicenter\": [43.654546, 20.838094], \"magnitude\": 7}]\n"
     ]
    }
   ],
   "source": [
    "earthquakes = [\n",
    "    {'epicenter':(44.117512, 20.189369), 'magnitude': 6},\n",
    "    {'epicenter':(43.886935, 20.556935), 'magnitude': 7},\n",
    "    {'epicenter':(43.654546, 20.838094), 'magnitude': 7}\n",
    "]\n",
    "\n",
    "print(json.dumps(earthquakes))\n"
   ]
  },
  {
   "cell_type": "code",
   "execution_count": 84,
   "id": "liberal-lover",
   "metadata": {},
   "outputs": [
    {
     "data": {
      "text/html": [
       "<div>\n",
       "<style scoped>\n",
       "    .dataframe tbody tr th:only-of-type {\n",
       "        vertical-align: middle;\n",
       "    }\n",
       "\n",
       "    .dataframe tbody tr th {\n",
       "        vertical-align: top;\n",
       "    }\n",
       "\n",
       "    .dataframe thead th {\n",
       "        text-align: right;\n",
       "    }\n",
       "</style>\n",
       "<table border=\"1\" class=\"dataframe\">\n",
       "  <thead>\n",
       "    <tr style=\"text-align: right;\">\n",
       "      <th></th>\n",
       "      <th>city</th>\n",
       "      <th>population</th>\n",
       "      <th>lat</th>\n",
       "      <th>lng</th>\n",
       "      <th>resources</th>\n",
       "    </tr>\n",
       "  </thead>\n",
       "  <tbody>\n",
       "    <tr>\n",
       "      <th>0</th>\n",
       "      <td>Belgrade</td>\n",
       "      <td>1378682.0</td>\n",
       "      <td>44.8167</td>\n",
       "      <td>20.4667</td>\n",
       "      <td>2757.364</td>\n",
       "    </tr>\n",
       "    <tr>\n",
       "      <th>1</th>\n",
       "      <td>Novi Sad</td>\n",
       "      <td>380000.0</td>\n",
       "      <td>45.2644</td>\n",
       "      <td>19.8317</td>\n",
       "      <td>760.000</td>\n",
       "    </tr>\n",
       "    <tr>\n",
       "      <th>2</th>\n",
       "      <td>Niš</td>\n",
       "      <td>183164.0</td>\n",
       "      <td>43.3192</td>\n",
       "      <td>21.8961</td>\n",
       "      <td>366.328</td>\n",
       "    </tr>\n",
       "    <tr>\n",
       "      <th>3</th>\n",
       "      <td>Zemun</td>\n",
       "      <td>161596.0</td>\n",
       "      <td>44.8500</td>\n",
       "      <td>20.4000</td>\n",
       "      <td>323.192</td>\n",
       "    </tr>\n",
       "    <tr>\n",
       "      <th>4</th>\n",
       "      <td>Kragujevac</td>\n",
       "      <td>150623.0</td>\n",
       "      <td>44.0142</td>\n",
       "      <td>20.9394</td>\n",
       "      <td>301.246</td>\n",
       "    </tr>\n",
       "  </tbody>\n",
       "</table>\n",
       "</div>"
      ],
      "text/plain": [
       "         city  population      lat      lng  resources\n",
       "0    Belgrade   1378682.0  44.8167  20.4667   2757.364\n",
       "1    Novi Sad    380000.0  45.2644  19.8317    760.000\n",
       "2         Niš    183164.0  43.3192  21.8961    366.328\n",
       "3       Zemun    161596.0  44.8500  20.4000    323.192\n",
       "4  Kragujevac    150623.0  44.0142  20.9394    301.246"
      ]
     },
     "execution_count": 84,
     "metadata": {},
     "output_type": "execute_result"
    }
   ],
   "source": [
    "cities_df.head(5)"
   ]
  },
  {
   "cell_type": "code",
   "execution_count": 76,
   "id": "accompanied-smell",
   "metadata": {},
   "outputs": [
    {
     "data": {
      "text/plain": [
       "'{\"city\":{\"0\":\"Belgrade\",\"1\":\"Novi Sad\",\"2\":\"Ni\\\\u0161\",\"3\":\"Zemun\",\"4\":\"Kragujevac\",\"5\":\"Subotica\",\"6\":\"Valjevo\",\"7\":\"Loznica\",\"8\":\"Zrenjanin\",\"9\":\"Pan\\\\u010devo\"},\"ugrozenih\":{\"0\":2832,\"1\":2707,\"2\":1753,\"3\":3364,\"4\":4959,\"5\":1133,\"6\":4473,\"7\":3568,\"8\":805,\"9\":2699}}'"
      ]
     },
     "execution_count": 76,
     "metadata": {},
     "output_type": "execute_result"
    }
   ],
   "source": [
    "ugrozeni = pd.DataFrame(np.array([cities_df.city, goal]).T)\n",
    "ugrozeni.columns = ['city', 'ugrozenih']\n",
    "ugrozeni.to_json()"
   ]
  },
  {
   "cell_type": "code",
   "execution_count": 46,
   "id": "greenhouse-tactics",
   "metadata": {},
   "outputs": [
    {
     "data": {
      "text/html": [
       "<div>\n",
       "<style scoped>\n",
       "    .dataframe tbody tr th:only-of-type {\n",
       "        vertical-align: middle;\n",
       "    }\n",
       "\n",
       "    .dataframe tbody tr th {\n",
       "        vertical-align: top;\n",
       "    }\n",
       "\n",
       "    .dataframe thead th {\n",
       "        text-align: right;\n",
       "    }\n",
       "</style>\n",
       "<table border=\"1\" class=\"dataframe\">\n",
       "  <thead>\n",
       "    <tr style=\"text-align: right;\">\n",
       "      <th></th>\n",
       "      <th>city</th>\n",
       "      <th>population</th>\n",
       "      <th>lat</th>\n",
       "      <th>lng</th>\n",
       "      <th>resources</th>\n",
       "    </tr>\n",
       "  </thead>\n",
       "  <tbody>\n",
       "    <tr>\n",
       "      <th>0</th>\n",
       "      <td>Belgrade</td>\n",
       "      <td>1378682.0</td>\n",
       "      <td>44.8167</td>\n",
       "      <td>20.4667</td>\n",
       "      <td>2757.364</td>\n",
       "    </tr>\n",
       "    <tr>\n",
       "      <th>1</th>\n",
       "      <td>Novi Sad</td>\n",
       "      <td>380000.0</td>\n",
       "      <td>45.2644</td>\n",
       "      <td>19.8317</td>\n",
       "      <td>760.000</td>\n",
       "    </tr>\n",
       "    <tr>\n",
       "      <th>2</th>\n",
       "      <td>Niš</td>\n",
       "      <td>183164.0</td>\n",
       "      <td>43.3192</td>\n",
       "      <td>21.8961</td>\n",
       "      <td>366.328</td>\n",
       "    </tr>\n",
       "    <tr>\n",
       "      <th>3</th>\n",
       "      <td>Zemun</td>\n",
       "      <td>161596.0</td>\n",
       "      <td>44.8500</td>\n",
       "      <td>20.4000</td>\n",
       "      <td>323.192</td>\n",
       "    </tr>\n",
       "    <tr>\n",
       "      <th>4</th>\n",
       "      <td>Kragujevac</td>\n",
       "      <td>150623.0</td>\n",
       "      <td>44.0142</td>\n",
       "      <td>20.9394</td>\n",
       "      <td>301.246</td>\n",
       "    </tr>\n",
       "  </tbody>\n",
       "</table>\n",
       "</div>"
      ],
      "text/plain": [
       "         city  population      lat      lng  resources\n",
       "0    Belgrade   1378682.0  44.8167  20.4667   2757.364\n",
       "1    Novi Sad    380000.0  45.2644  19.8317    760.000\n",
       "2         Niš    183164.0  43.3192  21.8961    366.328\n",
       "3       Zemun    161596.0  44.8500  20.4000    323.192\n",
       "4  Kragujevac    150623.0  44.0142  20.9394    301.246"
      ]
     },
     "execution_count": 46,
     "metadata": {},
     "output_type": "execute_result"
    }
   ],
   "source": [
    "# Prepare data\n",
    "cities_df = pd.read_csv('serbia_cities.csv')[['city', 'population', 'lat', 'lng']].iloc[0:17]\n",
    "n = len(cities_df)\n",
    "np.random.seed(0)\n",
    "goal = np.random.randint(100, 5000, size=n)\n",
    "\n",
    "available_res = pd.DataFrame(cities_df)#.iloc[0:10]\n",
    "k = len(available_res)\n",
    "available_res['resources'] = available_res['population'] / 500\n",
    "available_res_df = available_res.drop(['population'], axis=1)\n",
    "resources = available_res_df['resources'].astype(np.int64)\n",
    "\n",
    "preprocess_distances(cities_df, available_res)\n",
    "dist = load_distances()\n",
    "\n",
    "cities_df.head()"
   ]
  },
  {
   "cell_type": "code",
   "execution_count": 47,
   "id": "posted-alexander",
   "metadata": {},
   "outputs": [
    {
     "data": {
      "text/plain": [
       "(10, 10)"
      ]
     },
     "execution_count": 47,
     "metadata": {},
     "output_type": "execute_result"
    }
   ],
   "source": [
    "dist.shape"
   ]
  },
  {
   "cell_type": "code",
   "execution_count": 59,
   "id": "refined-ultimate",
   "metadata": {
    "scrolled": true
   },
   "outputs": [
    {
     "data": {
      "text/html": [
       "<div>\n",
       "<style scoped>\n",
       "    .dataframe tbody tr th:only-of-type {\n",
       "        vertical-align: middle;\n",
       "    }\n",
       "\n",
       "    .dataframe tbody tr th {\n",
       "        vertical-align: top;\n",
       "    }\n",
       "\n",
       "    .dataframe thead th {\n",
       "        text-align: right;\n",
       "    }\n",
       "</style>\n",
       "<table border=\"1\" class=\"dataframe\">\n",
       "  <thead>\n",
       "    <tr style=\"text-align: right;\">\n",
       "      <th></th>\n",
       "      <th>city</th>\n",
       "      <th>resources</th>\n",
       "    </tr>\n",
       "  </thead>\n",
       "  <tbody>\n",
       "    <tr>\n",
       "      <th>0</th>\n",
       "      <td>Belgrade</td>\n",
       "      <td>2757.364</td>\n",
       "    </tr>\n",
       "    <tr>\n",
       "      <th>1</th>\n",
       "      <td>Novi Sad</td>\n",
       "      <td>760.000</td>\n",
       "    </tr>\n",
       "    <tr>\n",
       "      <th>2</th>\n",
       "      <td>Niš</td>\n",
       "      <td>366.328</td>\n",
       "    </tr>\n",
       "    <tr>\n",
       "      <th>3</th>\n",
       "      <td>Zemun</td>\n",
       "      <td>323.192</td>\n",
       "    </tr>\n",
       "    <tr>\n",
       "      <th>4</th>\n",
       "      <td>Kragujevac</td>\n",
       "      <td>301.246</td>\n",
       "    </tr>\n",
       "  </tbody>\n",
       "</table>\n",
       "</div>"
      ],
      "text/plain": [
       "         city  resources\n",
       "0    Belgrade   2757.364\n",
       "1    Novi Sad    760.000\n",
       "2         Niš    366.328\n",
       "3       Zemun    323.192\n",
       "4  Kragujevac    301.246"
      ]
     },
     "execution_count": 59,
     "metadata": {},
     "output_type": "execute_result"
    }
   ],
   "source": [
    "available_res[['city','resources']].head()"
   ]
  },
  {
   "cell_type": "code",
   "execution_count": 58,
   "id": "desperate-campaign",
   "metadata": {},
   "outputs": [
    {
     "data": {
      "text/plain": [
       "'{\"city\":{\"0\":\"Belgrade\",\"1\":\"Novi Sad\",\"2\":\"Ni\\\\u0161\",\"3\":\"Zemun\",\"4\":\"Kragujevac\",\"5\":\"Subotica\",\"6\":\"Valjevo\",\"7\":\"Loznica\",\"8\":\"Zrenjanin\",\"9\":\"Pan\\\\u010devo\"},\"resources\":{\"0\":2757.364,\"1\":760.0,\"2\":366.328,\"3\":323.192,\"4\":301.246,\"5\":211.362,\"6\":180.624,\"7\":172.826,\"8\":153.022,\"9\":152.406}}'"
      ]
     },
     "execution_count": 58,
     "metadata": {},
     "output_type": "execute_result"
    }
   ],
   "source": [
    "available_res[['city','resources']].to_json()"
   ]
  },
  {
   "cell_type": "code",
   "execution_count": 49,
   "id": "driven-cancer",
   "metadata": {
    "scrolled": true
   },
   "outputs": [
    {
     "name": "stdout",
     "output_type": "stream",
     "text": [
      "Bounds: 100\n",
      "Initial Objective: 96283927.0\n",
      "Final Objective: 57814278.93679594\n",
      "Used resources: 5384\n",
      "Solution\n",
      "CPU times: user 2.6 s, sys: 3.98 ms, total: 2.61 s\n",
      "Wall time: 2.61 s\n"
     ]
    }
   ],
   "source": [
    "%%time\n",
    "from scipy.optimize import minimize\n",
    "\n",
    "# Utilities\n",
    "def toVector(x): # n x k\n",
    "    assert x.shape == (n, k)\n",
    "    return x.flatten()\n",
    "\n",
    "def toMat(vec):\n",
    "    assert vec.shape == (n*k,)\n",
    "    return vec.reshape(n,k)\n",
    "\n",
    "# Cost function\n",
    "alpha = 0.1\n",
    "def cost_fun(x):\n",
    "    x = toMat(x)\n",
    "    cost1 = np.sum((np.sum(x, axis=1) - goal)**2)\n",
    "    cost2 = np.sum(dist * x)\n",
    "    return cost1 + alpha*cost2\n",
    "\n",
    "# Constraints: k\n",
    "def get_constraint(j):\n",
    "    def constraint(x):\n",
    "        x = toMat(x)\n",
    "        return resources[j] - np.sum(x[:,j])\n",
    "    return constraint\n",
    "\n",
    "constraints = [{'type': 'ineq', 'fun':get_constraint(j)} \n",
    "                  for j in range(k)]\n",
    "\n",
    "# Bounds\n",
    "bnds = []\n",
    "for i in range(n):\n",
    "    for j in range(k):\n",
    "        bnds.append((0, resources[j]))\n",
    "print('Bounds:', len(bnds))\n",
    "\n",
    "# initial guess\n",
    "x0 = np.zeros((n, k))\n",
    "#x0[0] = available_res\n",
    "\n",
    "# show initial objective\n",
    "print('Initial Objective: ' + str(cost_fun(toVector(x0))))\n",
    "\n",
    "# optimize\n",
    "solution = minimize(cost_fun, toVector(x0), bounds=(bnds), constraints=constraints)\n",
    "x = np.array(solution.x).astype(np.int64)\n",
    "\n",
    "\n",
    "# show final objective\n",
    "print('Final Objective: ' + str(cost_fun(x)))\n",
    "\n",
    "print('Used resources:', sum(x))\n",
    "\n",
    "# print solution\n",
    "print('Solution')\n",
    "#print(x)"
   ]
  },
  {
   "cell_type": "code",
   "execution_count": 50,
   "id": "indian-compilation",
   "metadata": {},
   "outputs": [
    {
     "name": "stdout",
     "output_type": "stream",
     "text": [
      "[2832 2707 1753 3364 4959 1133 4473 3568  805 2699]\n",
      "28293\n"
     ]
    }
   ],
   "source": [
    "print(goal)\n",
    "print(sum(goal))"
   ]
  },
  {
   "cell_type": "code",
   "execution_count": 51,
   "id": "random-oasis",
   "metadata": {},
   "outputs": [
    {
     "name": "stdout",
     "output_type": "stream",
     "text": [
      "0    2757\n",
      "1     760\n",
      "2     366\n",
      "3     323\n",
      "4     301\n",
      "5     211\n",
      "6     180\n",
      "7     172\n",
      "8     153\n",
      "9     152\n",
      "Name: resources, dtype: int64\n"
     ]
    }
   ],
   "source": [
    "print(availaresources)"
   ]
  },
  {
   "cell_type": "code",
   "execution_count": 80,
   "id": "instrumental-vintage",
   "metadata": {},
   "outputs": [
    {
     "data": {
      "text/html": [
       "<div>\n",
       "<style scoped>\n",
       "    .dataframe tbody tr th:only-of-type {\n",
       "        vertical-align: middle;\n",
       "    }\n",
       "\n",
       "    .dataframe tbody tr th {\n",
       "        vertical-align: top;\n",
       "    }\n",
       "\n",
       "    .dataframe thead th {\n",
       "        text-align: right;\n",
       "    }\n",
       "</style>\n",
       "<table border=\"1\" class=\"dataframe\">\n",
       "  <thead>\n",
       "    <tr style=\"text-align: right;\">\n",
       "      <th>city</th>\n",
       "      <th>Belgrade</th>\n",
       "      <th>Novi Sad</th>\n",
       "      <th>Niš</th>\n",
       "      <th>Zemun</th>\n",
       "      <th>Kragujevac</th>\n",
       "      <th>Subotica</th>\n",
       "      <th>Valjevo</th>\n",
       "      <th>Loznica</th>\n",
       "      <th>Zrenjanin</th>\n",
       "      <th>Pančevo</th>\n",
       "    </tr>\n",
       "    <tr>\n",
       "      <th>city</th>\n",
       "      <th></th>\n",
       "      <th></th>\n",
       "      <th></th>\n",
       "      <th></th>\n",
       "      <th></th>\n",
       "      <th></th>\n",
       "      <th></th>\n",
       "      <th></th>\n",
       "      <th></th>\n",
       "      <th></th>\n",
       "    </tr>\n",
       "  </thead>\n",
       "  <tbody>\n",
       "    <tr>\n",
       "      <th>Belgrade</th>\n",
       "      <td>42</td>\n",
       "      <td>0</td>\n",
       "      <td>0</td>\n",
       "      <td>331</td>\n",
       "      <td>1129</td>\n",
       "      <td>0</td>\n",
       "      <td>1045</td>\n",
       "      <td>225</td>\n",
       "      <td>0</td>\n",
       "      <td>0</td>\n",
       "    </tr>\n",
       "    <tr>\n",
       "      <th>Novi Sad</th>\n",
       "      <td>5</td>\n",
       "      <td>0</td>\n",
       "      <td>0</td>\n",
       "      <td>55</td>\n",
       "      <td>199</td>\n",
       "      <td>0</td>\n",
       "      <td>276</td>\n",
       "      <td>228</td>\n",
       "      <td>0</td>\n",
       "      <td>0</td>\n",
       "    </tr>\n",
       "    <tr>\n",
       "      <th>Niš</th>\n",
       "      <td>0</td>\n",
       "      <td>0</td>\n",
       "      <td>0</td>\n",
       "      <td>0</td>\n",
       "      <td>365</td>\n",
       "      <td>0</td>\n",
       "      <td>0</td>\n",
       "      <td>0</td>\n",
       "      <td>0</td>\n",
       "      <td>0</td>\n",
       "    </tr>\n",
       "    <tr>\n",
       "      <th>Zemun</th>\n",
       "      <td>16</td>\n",
       "      <td>0</td>\n",
       "      <td>0</td>\n",
       "      <td>110</td>\n",
       "      <td>98</td>\n",
       "      <td>0</td>\n",
       "      <td>95</td>\n",
       "      <td>3</td>\n",
       "      <td>0</td>\n",
       "      <td>0</td>\n",
       "    </tr>\n",
       "    <tr>\n",
       "      <th>Kragujevac</th>\n",
       "      <td>0</td>\n",
       "      <td>0</td>\n",
       "      <td>0</td>\n",
       "      <td>0</td>\n",
       "      <td>300</td>\n",
       "      <td>0</td>\n",
       "      <td>0</td>\n",
       "      <td>0</td>\n",
       "      <td>0</td>\n",
       "      <td>0</td>\n",
       "    </tr>\n",
       "    <tr>\n",
       "      <th>Subotica</th>\n",
       "      <td>0</td>\n",
       "      <td>0</td>\n",
       "      <td>0</td>\n",
       "      <td>0</td>\n",
       "      <td>0</td>\n",
       "      <td>0</td>\n",
       "      <td>54</td>\n",
       "      <td>155</td>\n",
       "      <td>0</td>\n",
       "      <td>0</td>\n",
       "    </tr>\n",
       "    <tr>\n",
       "      <th>Valjevo</th>\n",
       "      <td>0</td>\n",
       "      <td>0</td>\n",
       "      <td>0</td>\n",
       "      <td>0</td>\n",
       "      <td>0</td>\n",
       "      <td>0</td>\n",
       "      <td>179</td>\n",
       "      <td>0</td>\n",
       "      <td>0</td>\n",
       "      <td>0</td>\n",
       "    </tr>\n",
       "    <tr>\n",
       "      <th>Loznica</th>\n",
       "      <td>0</td>\n",
       "      <td>0</td>\n",
       "      <td>0</td>\n",
       "      <td>0</td>\n",
       "      <td>0</td>\n",
       "      <td>0</td>\n",
       "      <td>0</td>\n",
       "      <td>171</td>\n",
       "      <td>0</td>\n",
       "      <td>0</td>\n",
       "    </tr>\n",
       "    <tr>\n",
       "      <th>Zrenjanin</th>\n",
       "      <td>18</td>\n",
       "      <td>0</td>\n",
       "      <td>0</td>\n",
       "      <td>65</td>\n",
       "      <td>5</td>\n",
       "      <td>0</td>\n",
       "      <td>42</td>\n",
       "      <td>23</td>\n",
       "      <td>0</td>\n",
       "      <td>0</td>\n",
       "    </tr>\n",
       "    <tr>\n",
       "      <th>Pančevo</th>\n",
       "      <td>4</td>\n",
       "      <td>0</td>\n",
       "      <td>0</td>\n",
       "      <td>39</td>\n",
       "      <td>93</td>\n",
       "      <td>0</td>\n",
       "      <td>14</td>\n",
       "      <td>0</td>\n",
       "      <td>0</td>\n",
       "      <td>0</td>\n",
       "    </tr>\n",
       "  </tbody>\n",
       "</table>\n",
       "</div>"
      ],
      "text/plain": [
       "city        Belgrade  Novi Sad  Niš  Zemun  Kragujevac  Subotica  Valjevo  \\\n",
       "city                                                                        \n",
       "Belgrade          42         0    0    331        1129         0     1045   \n",
       "Novi Sad           5         0    0     55         199         0      276   \n",
       "Niš                0         0    0      0         365         0        0   \n",
       "Zemun             16         0    0    110          98         0       95   \n",
       "Kragujevac         0         0    0      0         300         0        0   \n",
       "Subotica           0         0    0      0           0         0       54   \n",
       "Valjevo            0         0    0      0           0         0      179   \n",
       "Loznica            0         0    0      0           0         0        0   \n",
       "Zrenjanin         18         0    0     65           5         0       42   \n",
       "Pančevo            4         0    0     39          93         0       14   \n",
       "\n",
       "city        Loznica  Zrenjanin  Pančevo  \n",
       "city                                     \n",
       "Belgrade        225          0        0  \n",
       "Novi Sad        228          0        0  \n",
       "Niš               0          0        0  \n",
       "Zemun             3          0        0  \n",
       "Kragujevac        0          0        0  \n",
       "Subotica        155          0        0  \n",
       "Valjevo           0          0        0  \n",
       "Loznica         171          0        0  \n",
       "Zrenjanin        23          0        0  \n",
       "Pančevo           0          0        0  "
      ]
     },
     "execution_count": 80,
     "metadata": {},
     "output_type": "execute_result"
    }
   ],
   "source": [
    "final_dist"
   ]
  },
  {
   "cell_type": "code",
   "execution_count": 79,
   "id": "induced-indication",
   "metadata": {},
   "outputs": [
    {
     "name": "stdout",
     "output_type": "stream",
     "text": [
      "{\"Belgrade\":{\"Belgrade\":42,\"Novi Sad\":0,\"Ni\\u0161\":0,\"Zemun\":331,\"Kragujevac\":1129,\"Subotica\":0,\"Valjevo\":1045,\"Loznica\":225,\"Zrenjanin\":0,\"Pan\\u010devo\":0},\"Novi Sad\":{\"Belgrade\":5,\"Novi Sad\":0,\"Ni\\u0161\":0,\"Zemun\":55,\"Kragujevac\":199,\"Subotica\":0,\"Valjevo\":276,\"Loznica\":228,\"Zrenjanin\":0,\"Pan\\u010devo\":0},\"Ni\\u0161\":{\"Belgrade\":0,\"Novi Sad\":0,\"Ni\\u0161\":0,\"Zemun\":0,\"Kragujevac\":365,\"Subotica\":0,\"Valjevo\":0,\"Loznica\":0,\"Zrenjanin\":0,\"Pan\\u010devo\":0},\"Zemun\":{\"Belgrade\":16,\"Novi Sad\":0,\"Ni\\u0161\":0,\"Zemun\":110,\"Kragujevac\":98,\"Subotica\":0,\"Valjevo\":95,\"Loznica\":3,\"Zrenjanin\":0,\"Pan\\u010devo\":0},\"Kragujevac\":{\"Belgrade\":0,\"Novi Sad\":0,\"Ni\\u0161\":0,\"Zemun\":0,\"Kragujevac\":300,\"Subotica\":0,\"Valjevo\":0,\"Loznica\":0,\"Zrenjanin\":0,\"Pan\\u010devo\":0},\"Subotica\":{\"Belgrade\":0,\"Novi Sad\":0,\"Ni\\u0161\":0,\"Zemun\":0,\"Kragujevac\":0,\"Subotica\":0,\"Valjevo\":54,\"Loznica\":155,\"Zrenjanin\":0,\"Pan\\u010devo\":0},\"Valjevo\":{\"Belgrade\":0,\"Novi Sad\":0,\"Ni\\u0161\":0,\"Zemun\":0,\"Kragujevac\":0,\"Subotica\":0,\"Valjevo\":179,\"Loznica\":0,\"Zrenjanin\":0,\"Pan\\u010devo\":0},\"Loznica\":{\"Belgrade\":0,\"Novi Sad\":0,\"Ni\\u0161\":0,\"Zemun\":0,\"Kragujevac\":0,\"Subotica\":0,\"Valjevo\":0,\"Loznica\":171,\"Zrenjanin\":0,\"Pan\\u010devo\":0},\"Zrenjanin\":{\"Belgrade\":18,\"Novi Sad\":0,\"Ni\\u0161\":0,\"Zemun\":65,\"Kragujevac\":5,\"Subotica\":0,\"Valjevo\":42,\"Loznica\":23,\"Zrenjanin\":0,\"Pan\\u010devo\":0},\"Pan\\u010devo\":{\"Belgrade\":4,\"Novi Sad\":0,\"Ni\\u0161\":0,\"Zemun\":39,\"Kragujevac\":93,\"Subotica\":0,\"Valjevo\":14,\"Loznica\":0,\"Zrenjanin\":0,\"Pan\\u010devo\":0}}\n"
     ]
    }
   ],
   "source": [
    "final_dist = pd.DataFrame(toMat(x).T)\n",
    "final_dist.columns = cities_df['city']\n",
    "final_dist.index = cities_df['city']\n",
    "print(final_dist.T.to_json())"
   ]
  },
  {
   "cell_type": "code",
   "execution_count": 53,
   "id": "yellow-scholar",
   "metadata": {},
   "outputs": [
    {
     "data": {
      "text/plain": [
       "5375"
      ]
     },
     "execution_count": 53,
     "metadata": {},
     "output_type": "execute_result"
    }
   ],
   "source": [
    "sum(resources)"
   ]
  },
  {
   "cell_type": "code",
   "execution_count": 9,
   "id": "subtle-domain",
   "metadata": {},
   "outputs": [
    {
     "name": "stdout",
     "output_type": "stream",
     "text": [
      "CPU times: user 56 µs, sys: 0 ns, total: 56 µs\n",
      "Wall time: 60.6 µs\n"
     ]
    },
    {
     "data": {
      "text/plain": [
       "array([1, 2, 3, 4, 5, 6])"
      ]
     },
     "execution_count": 9,
     "metadata": {},
     "output_type": "execute_result"
    }
   ],
   "source": [
    "%%time\n",
    "np.array([[1,2,3],[4,5,6]]).flatten()"
   ]
  }
 ],
 "metadata": {
  "kernelspec": {
   "display_name": "Python 3",
   "language": "python",
   "name": "python3"
  },
  "language_info": {
   "codemirror_mode": {
    "name": "ipython",
    "version": 3
   },
   "file_extension": ".py",
   "mimetype": "text/x-python",
   "name": "python",
   "nbconvert_exporter": "python",
   "pygments_lexer": "ipython3",
   "version": "3.8.5"
  }
 },
 "nbformat": 4,
 "nbformat_minor": 5
}
